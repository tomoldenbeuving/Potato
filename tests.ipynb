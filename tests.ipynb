{
 "cells": [
  {
   "cell_type": "code",
   "execution_count": 6,
   "metadata": {},
   "outputs": [
    {
     "name": "stdout",
     "output_type": "stream",
     "text": [
      "0 8\n"
     ]
    }
   ],
   "source": [
    "def conversion(old):\n",
    "    een, twee = old.split('.')\n",
    "    n = 2\n",
    "#    [twee[i:i+n] for i in range(0, len(twee), n)]\n",
    "\n",
    "#fix the len dingen\n",
    "    print(twee[0], twee[1] )\n",
    "    return (float(een)+float(twee[0])/60.0+float(twee[1])/3600.0)\n",
    "\n",
    "lat, lon = u'''52.08976, 522.7706'''.split(', ')\n",
    "\n",
    "print(conversion(lat),\",\", conversion(lon))\n"
   ]
  },
  {
   "cell_type": "code",
   "execution_count": null,
   "metadata": {},
   "outputs": [],
   "source": [
    "from GPS import locatie\n",
    "\n",
    "locatie()"
   ]
  }
 ],
 "metadata": {
  "interpreter": {
   "hash": "b89b5cfaba6639976dc87ff2fec6d58faec662063367e2c229c520fe71072417"
  },
  "kernelspec": {
   "display_name": "Python 3.10.2 64-bit",
   "language": "python",
   "name": "python3"
  },
  "language_info": {
   "codemirror_mode": {
    "name": "ipython",
    "version": 3
   },
   "file_extension": ".py",
   "mimetype": "text/x-python",
   "name": "python",
   "nbconvert_exporter": "python",
   "pygments_lexer": "ipython3",
   "version": "3.10.2"
  },
  "orig_nbformat": 4
 },
 "nbformat": 4,
 "nbformat_minor": 2
}
