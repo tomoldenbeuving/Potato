{
 "cells": [
  {
   "cell_type": "code",
   "execution_count": 10,
   "metadata": {},
   "outputs": [
    {
     "name": "stdout",
     "output_type": "stream",
     "text": [
      "16 6665\n",
      "39 8278\n",
      "52.285 , 5.672777777777778\n"
     ]
    }
   ],
   "source": [
    "def conversion(old):\n",
    "    een, twee = old.split('.')\n",
    "    n = 2\n",
    "#    [twee[i:i+n] for i in range(0, len(twee), n)]\n",
    "\n",
    "#fix the len dingen\n",
    "    print(twee[0:2], twee[2:] )\n",
    "    return (float(een)+float(twee[0:2])/60.0+float(twee[2:4])/3600.0)\n",
    "\n",
    "lat, lon = u'''52.166665, 5.398278'''.split(', ')\n",
    "\n",
    "print(conversion(lat),\",\", conversion(lon))\n"
   ]
  },
  {
   "cell_type": "markdown",
   "metadata": {},
   "source": [
    "52°05'23.1\"N 5°13'39.7\"E\n",
    "\n",
    "52.08976, 5.227706"
   ]
  },
  {
   "cell_type": "code",
   "execution_count": null,
   "metadata": {},
   "outputs": [],
   "source": []
  }
 ],
 "metadata": {
  "interpreter": {
   "hash": "b89b5cfaba6639976dc87ff2fec6d58faec662063367e2c229c520fe71072417"
  },
  "kernelspec": {
   "display_name": "Python 3.10.2 64-bit",
   "language": "python",
   "name": "python3"
  },
  "language_info": {
   "codemirror_mode": {
    "name": "ipython",
    "version": 3
   },
   "file_extension": ".py",
   "mimetype": "text/x-python",
   "name": "python",
   "nbconvert_exporter": "python",
   "pygments_lexer": "ipython3",
   "version": "3.8.6rc1"
  },
  "orig_nbformat": 4
 },
 "nbformat": 4,
 "nbformat_minor": 2
}
